{
 "cells": [
  {
   "cell_type": "markdown",
   "metadata": {},
   "source": [
    "# Python环境安装\n",
    "\n",
    "+ http://continuum.io/ 下载并安装Anaconda\n",
    "+ 创建一个python 3.5环境，环境中缺省安装anaconda\n",
    "+ 更新jupyter,ipython到最新版本\n",
    "+ 创建一个python 2.7环境，环境中缺省安装anaconda\n",
    "\n",
    "# python\n",
    "+ [Learn Python the Hard Way](https://learnpythonthehardway.org/book/)\n",
    "+ 注册学习Python https://www.codecademy.com/\n",
    "+ [Python Lecture](https://github.com/rajathkumarmp/Python-Lectures)\n",
    "+ [Google Python Course](https://developers.google.com/edu/python/set-up)\n",
    "\n",
    "# jupyter notebook\n",
    "\n",
    "+ 观看视频[IPython : Python at your fingertips](www.youtube.com/watch?v=26wgEsg9Mcc)\n",
    "+ [Fernando Perez关于jupyter的演讲](https://github.com/fperez/talk-1504-boulder) \n",
    "    + [视频](http://video.ucar.edu/mms/sea/2015/day1/f_perez.mp4)\n",
    "    + [slides](https://speakerdeck.com/fperez/ipython-and-project-jupyter-a-language-independent-architecture-for-open-computing-and-data-science)\n",
    "\n",
    "\n",
    "# Git/Github 练习\n",
    "\n",
    "+ 注册一个github帐号，并在github中fork https://github.com/zjdian/data-analysis/ 库\n",
    "+ 在git 中运行 git clone git@github.com:**yourgithubname**/**your-github-repo.git** (pull request后面章节再讲)\n",
    "+ [Git Immersion](http://gitimmersion-apputu.rhcloud.com/index.html)\n",
    "+ [git流程图 ](http://justinhileman.info/article/git-pretty/)\n",
    "+ 有时间可以学习 [Pro Git 书 ](git-scm.com/book/zh)，深入学习git\n",
    "\n",
    "\n",
    "# 关于vpn\n",
    "\n",
    "我个人使用的是云梯vpn，用了几年感觉还可以，如果想购vpn 点击链接 http://joinyt.com/?r=02fa146a84353c4b 你和我都可以节约10元 。当然网上你也可以搜其它付费 vpn，应该有很多选择。"
   ]
  },
  {
   "cell_type": "code",
   "execution_count": null,
   "metadata": {
    "collapsed": true
   },
   "outputs": [],
   "source": []
  }
 ],
 "metadata": {
  "anaconda-cloud": {},
  "kernelspec": {
   "display_name": "Python 3",
   "language": "python",
   "name": "python3"
  },
  "language_info": {
   "codemirror_mode": {
    "name": "ipython",
    "version": 3
   },
   "file_extension": ".py",
   "mimetype": "text/x-python",
   "name": "python",
   "nbconvert_exporter": "python",
   "pygments_lexer": "ipython3",
   "version": "3.6.1"
  }
 },
 "nbformat": 4,
 "nbformat_minor": 1
}
